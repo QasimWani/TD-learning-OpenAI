{
 "cells": [
  {
   "cell_type": "code",
   "execution_count": 1,
   "metadata": {},
   "outputs": [],
   "source": [
    "### Implement TD control to solve OpenAI's Taxi problem using gym."
   ]
  },
  {
   "cell_type": "code",
   "execution_count": 2,
   "metadata": {},
   "outputs": [],
   "source": [
    "import gym\n",
    "import numpy as np\n",
    "import pandas as pd\n",
    "import matplotlib.pyplot as plt\n",
    "from collections import defaultdict\n",
    "import time\n",
    "import sys"
   ]
  },
  {
   "cell_type": "code",
   "execution_count": 3,
   "metadata": {},
   "outputs": [],
   "source": [
    "env_name = \"Taxi-v3\"\n",
    "env = gym.make(env_name)"
   ]
  },
  {
   "cell_type": "code",
   "execution_count": 4,
   "metadata": {},
   "outputs": [],
   "source": [
    "env = env.unwrapped #gets ride of TimeLimit"
   ]
  },
  {
   "cell_type": "code",
   "execution_count": 5,
   "metadata": {},
   "outputs": [],
   "source": [
    "class Agent():\n",
    "    \"\"\"\n",
    "    This class is used in finding/converging towards the optimal policy for Taxi-lab environment in OpenAI.\n",
    "    User can select between either of the 3 TD control methods, i.e. sarsa, sarsa_max (Q), or expected_sarsa.\n",
    "    \n",
    "    Passenger locations:\n",
    "    - 0: R(ed)\n",
    "    - 1: G(reen)\n",
    "    - 2: Y(ellow)\n",
    "    - 3: B(lue)\n",
    "    - 4: in taxi\n",
    "    \n",
    "    Destinations:\n",
    "    - 0: R(ed)\n",
    "    - 1: G(reen)\n",
    "    - 2: Y(ellow)\n",
    "    - 3: B(lue)\n",
    "        \n",
    "    Actions:\n",
    "    There are 6 discrete deterministic actions:\n",
    "    - 0: move south\n",
    "    - 1: move north\n",
    "    - 2: move east \n",
    "    - 3: move west \n",
    "    - 4: pickup passenger\n",
    "    - 5: dropoff passenger\n",
    "    \n",
    "    -----\n",
    "    Read individual method docstring for more info.\n",
    "    Resources:\n",
    "    1. Taxi Environment paper: https://arxiv.org/pdf/cs/9905014.pdf\n",
    "    2. OpenAI simulation: https://gym.openai.com/envs/Taxi-v3\n",
    "    -----\n",
    "    Author: Qasim Wani\n",
    "    Date written: July 18, 2020.\n",
    "    \"\"\"\n",
    "    def __init__(self, env):\n",
    "        self.nA = env.action_space.n\n",
    "        self.Q = defaultdict(lambda : np.zeros(self.nA))\n",
    "        self.env = env\n",
    "        \n",
    "    def encode(self, row, col, loc, dest):\n",
    "        \"\"\"\n",
    "        Given a tuple of observation consisting of taxi's position (row, column)\n",
    "        with the passengers current location and point of destination, encode it\n",
    "        into an integer of range: (0, 500].\n",
    "        @Param:\n",
    "        1. row: Taxi row number: (int) 0 - 4\n",
    "        2. col: Taxi column number: (int) 0 - 4\n",
    "        3. loc: passenger location: one of the 4 colors, Red, Green, Blue, Yellow, or in-taxi (full)\n",
    "        4. dest: passenger destination: one of the 4 corners in the grid indicated as: R/G/B/Y\n",
    "        @Returns:\n",
    "        - i: encoded number given the observational state of the environment, env.\n",
    "        Credits: https://github.com/openai/gym/blob/master/gym/envs/toy_text/taxi.py#L130\n",
    "        \"\"\"\n",
    "        i = row\n",
    "        i *= 5\n",
    "        i += col\n",
    "        i *= 5\n",
    "        i += loc\n",
    "        i *= 4\n",
    "        i += dest\n",
    "        return i\n",
    "    \n",
    "    def decode(self, i):\n",
    "        \"\"\"\n",
    "        Given an integer (0, 500], decode it into the following:\n",
    "        1. taxi row.\n",
    "        2. taxi column.\n",
    "        3. passenger location.\n",
    "        4. passenger destination.\n",
    "        Credits: https://github.com/openai/gym/blob/master/gym/envs/toy_text/taxi.py#L141\n",
    "        \"\"\"\n",
    "        out = []\n",
    "        out.append(i % 4)\n",
    "        i = i // 4\n",
    "        out.append(i % 5)\n",
    "        i = i // 5\n",
    "        out.append(i % 5)\n",
    "        i = i // 5\n",
    "        out.append(i)\n",
    "        return tuple(reversed(out))\n",
    "    \n",
    "    def initialize_env(self, decode=True):\n",
    "        \"\"\"\n",
    "        Initializes the environment, randomly, and decodes the observational state using decode() f(x).\n",
    "        Uses env.reset() internally.\n",
    "        Return the observational state as a decoded version if decode is set to true (default)\n",
    "        Otherwise, returns the encoded state version.\n",
    "        \"\"\"\n",
    "        return self.decode(self.env.reset()) if decode else self.env.reset()\n",
    "    \n",
    "    def generate_episode(self, values, TD_type = \"sarsa\"):\n",
    "        \"\"\"\n",
    "        Generates an episode & updates the Q_table along the way.\n",
    "        Parameters:\n",
    "        1. values: tuple of gamma, alpha, & epsilon values.\n",
    "        2. TD_type: type of TD control to use. default = 'sarsa'. Options: \"sarsa\", \"Q\", \"expected_sarsa\".\n",
    "        Returns:\n",
    "        - Q : Updated Q table.\n",
    "        - steps_to_completion: #steps it took to complete an episode.\n",
    "        - total_reward: total reward accumulated during the episode.\n",
    "        \"\"\"\n",
    "        state = self.initialize_env(decode = False) #initial state, decoded\n",
    "        gamma, alpha, epsilon = values #extract information\n",
    "        nA = self.nA #action space size.\n",
    "        steps_to_completion:int = 0 #number of steps taken to task completion in one episode\n",
    "        total_reward:int = 0 #total reward accumulated in an episode\n",
    "        Q = self.Q\n",
    "        while True:\n",
    "            action = self.get_action(Q, state, epsilon)#choose between greedy or equiprobable action\n",
    "\n",
    "            next_state, reward, done,_ = self.env.step(action) #step into the episode\n",
    "            value = Q[state][action] #get current value\n",
    "            next_action = self.get_action(Q, next_state, epsilon)#choose between greedy/random for next state\n",
    "\n",
    "            # Choose b/w 3 TD control algorithms.\n",
    "            #SARSA: Q(S0, A0) --> Q(S0, A0) + å(R1 + gamma(Q(S1, A1) - Q(S0, A0)))\n",
    "            #SARSA Max: Q(S0, A0) --> Q(S0, A0) + å(R1 + gamma(max (Q(S1, a)) - Q(S0, A0)))\n",
    "            #Expected SARSA: Q(S0, A0) --> Q(S0, A0) + å(R1 + gamma(Σ[ π(a | S1)* Q(S1, a) ] - Q(S0, A0)))\n",
    "\n",
    "            target = self.get_value_TD(next_state, next_action, TD_type, epsilon) #choice of TD\n",
    "            value += alpha*(reward + gamma*(target - value))\n",
    "            Q[state][action] = value #update Q-table\n",
    "                \n",
    "            state = next_state #update state\n",
    "            steps_to_completion += 1 #increment number of steps to episode completion\n",
    "            total_reward += reward #increment reward counter\n",
    "            if(done): #episode completed\n",
    "                break\n",
    "        return Q, steps_to_completion, total_reward\n",
    "\n",
    "    def get_action(self, Q, state, eps):\n",
    "        \"\"\"\n",
    "        Gets the action following epsilon greedy policy.\n",
    "        Parameters:\n",
    "        1. Q: Q-table.\n",
    "        2. state: current state in the episode.\n",
    "        3. eps: epsilon value following GLIE conditions.\n",
    "        Returns:\n",
    "        - actions: the action to take based on choosing greedy action or random action\n",
    "        \"\"\"\n",
    "        #exploit if True else explore\n",
    "        return np.argmax(Q[state]) if np.random.random() > eps else np.random.choice(np.arange(self.nA))\n",
    "    \n",
    "    def get_value_TD(self, next_state, next_action = None, TD_type = \"sarsa\", epsilon = None):\n",
    "        \"\"\"\n",
    "        Returns the value from the Q table based on the type of TD control algorithm\n",
    "        @Param:\n",
    "        1. next_state: S_(t+1) from the episode\n",
    "        2. next_action: A_(t+1). None if TD_type ≠ 'sarsa'\n",
    "        3. TD_type: type of TD control algorithm to use. Can be 'sarsa', 'Q', or 'expected_sarsa'\n",
    "        4. epsilon: value for epsilon.\n",
    "        Returns:\n",
    "        - value: value from the Q-table based on the Temporal Difference control algorithm used.\n",
    "        \"\"\"\n",
    "        Q = self.Q #retrieve the current Q table\n",
    "        if(TD_type == \"sarsa\"):\n",
    "            return Q[next_state][next_action] if next_action is not None else 0\n",
    "        elif(TD_type == \"Q\"):\n",
    "            return np.max(Q[next_state])\n",
    "        elif(TD_type == \"expected_sarsa\"):\n",
    "            policy_s = np.ones(self.nA) * epsilon / self.nA\n",
    "            policy_s[np.argmax(Q[next_state])] = 1 - epsilon + (epsilon / self.nA)\n",
    "            return np.dot(Q[next_state], policy_s)\n",
    "        else:\n",
    "            raise ValueError(\"Invalid TD_type specified\")"
   ]
  },
  {
   "cell_type": "code",
   "execution_count": 6,
   "metadata": {},
   "outputs": [],
   "source": [
    "def TD_learning(agent, num_episodes, alpha, gamma=1.0, td_type = \"sarsa\"):\n",
    "    \"\"\"\n",
    "    Runs the optimal TD (specified in params) operation and returns the optimal policy and Q table.\n",
    "    Utlizes the agent class created previously.\n",
    "    @Params:\n",
    "    1. agent: Instance of agent class.\n",
    "    2. num_episodes: number of episodes to train for.\n",
    "    3. alpha: value of alpha for regularizer.\n",
    "    4. gamma: discounted return, Ɣ (refer to Bellman Equations)\n",
    "    5. td_type: type of TD control. Choose str between 'sarsa', 'Q', or 'expected_sarsa'\n",
    "    @Returns:\n",
    "    1. Q - estimated optimal Q table.\n",
    "    2. policy - estimated optimal policy, π.\n",
    "    \"\"\"\n",
    "    # initialize performance monitor\n",
    "    steps_arr = []\n",
    "    reward_arr = []\n",
    "    # loop over episodes\n",
    "    for i_episode in range(1, num_episodes+1):\n",
    "        # monitor progress\n",
    "        if i_episode % 100 == 0:\n",
    "            print(\"\\rEpisode {}/{}\".format(i_episode, num_episodes), end=\"\")\n",
    "            sys.stdout.flush()   \n",
    "        \n",
    "        ## Q-learning implementation\n",
    "\n",
    "        epsilon = 1.0/i_episode #impose GLIE conditions\n",
    "        Q_updated, steps, reward = agent.generate_episode((gamma, alpha, epsilon), TD_type = td_type)\n",
    "        Q = Q_updated #update value for Q-table\n",
    "        #performance monitor\n",
    "        steps_arr.append(steps)#append #steps for current episode (should decrease as num_episode -> ∞)\n",
    "        reward_arr.append(reward)#should approach optimal reward as num_episode -> ∞\n",
    "    \n",
    "    #convert performance metrics to nd.array\n",
    "    steps_arr = np.array(steps_arr)\n",
    "    reward_arr = np.array(reward_arr)\n",
    "    plt.plot(steps_arr, label=\"steps\")#plot steps\n",
    "    plt.plot(reward_arr, label=\"reward\")#plot reward\n",
    "    plt.xlabel(\"Number of episodes\")\n",
    "    plt.ylabel(\"Continuous value\")\n",
    "    plt.ylim(-300, 300)#set y-axis boundaries\n",
    "    plt.legend(loc=\"upper right\")#display legend\n",
    "    plt.show()\n",
    "    \n",
    "    print(\"SUMMARY\")\n",
    "    print(f\"\\nAverage Reward: {reward_arr.mean()}\\nAverage Steps to completion: {steps_arr.mean()}\")\n",
    "    print(\"\\n*******BEFORE*******\")\n",
    "    print(f\"\\nMinimum Reward attained at the end of an episode: {reward_arr.min()} at pos: {reward_arr.argmin()}\")\n",
    "    print(f\"Greatest number of steps for an episode: {steps_arr.max()} at position: {steps_arr.argmax()}\")\n",
    "    print(\"\\n*******AFTER*******\")\n",
    "    print(f\"Maximum Reward attained at an episode: {reward_arr.max()} at position #: {reward_arr.argmax()}\")\n",
    "    print(f\"Fewest number of steps took for task completion: {steps_arr.min()} at pos: {steps_arr.argmin()}\")\n",
    "    \n",
    "    ### Find the optimal policy, π*\n",
    "    policy = np.array([np.argmax(Q[key]) if key in Q else -1 for key in np.arange(500)]).reshape((5, 5, 5, 4))\n",
    "    return Q, policy"
   ]
  },
  {
   "cell_type": "code",
   "execution_count": 7,
   "metadata": {},
   "outputs": [],
   "source": [
    "agent = Agent(env)"
   ]
  },
  {
   "cell_type": "code",
   "execution_count": 8,
   "metadata": {
    "scrolled": true
   },
   "outputs": [
    {
     "name": "stdout",
     "output_type": "stream",
     "text": [
      "+---------+\n",
      "|\u001b[34;1mR\u001b[0m: | : :G|\n",
      "| :\u001b[43m \u001b[0m| : : |\n",
      "| : : : : |\n",
      "| | : | : |\n",
      "|Y| : |\u001b[35mB\u001b[0m: |\n",
      "+---------+\n",
      "\n"
     ]
    }
   ],
   "source": [
    "agent.env.render()"
   ]
  },
  {
   "cell_type": "code",
   "execution_count": 9,
   "metadata": {},
   "outputs": [
    {
     "name": "stdout",
     "output_type": "stream",
     "text": [
      "Episode 50000/50000"
     ]
    },
    {
     "data": {
      "image/png": "[encoded data removed]",
      "text/plain": [
       "<Figure size 432x288 with 1 Axes>"
      ]
     },
     "metadata": {
      "needs_background": "light"
     },
     "output_type": "display_data"
    },
    {
     "name": "stdout",
     "output_type": "stream",
     "text": [
      "SUMMARY\n",
      "\n",
      "Average Reward: 5.75338\n",
      "Average Steps to completion: 14.49656\n",
      "\n",
      "*******BEFORE*******\n",
      "\n",
      "Minimum Reward attained at the end of an episode: -4803 at pos: 0\n",
      "Greatest number of steps for an episode: 1534 at position: 4\n",
      "\n",
      "*******AFTER*******\n",
      "Maximum Reward attained at an episode: 15 at position #: 178\n",
      "Fewest number of steps took for task completion: 6 at pos: 178\n"
     ]
    }
   ],
   "source": [
    "# obtain the estimated optimal policy and corresponding action-value function\n",
    "Q_optimal, policy_optimal = TD_learning(agent, 50000, 0.1, td_type=\"Q\")"
   ]
  },
  {
   "cell_type": "code",
   "execution_count": 10,
   "metadata": {},
   "outputs": [],
   "source": [
    "def run_optimal_policy(agent, Q_optimal, num_episodes, td_type = 'sarsa', epsilon=0.0, gamma=1.0, alpha=1.0):\n",
    "    \"\"\"\n",
    "    Runs the optimal policy for an agent.\n",
    "    @Params:\n",
    "    1. agent: Instance of Agent class.\n",
    "    2. Q_optimal: optimal Q-table (must be trained above)\n",
    "    3. num_episodes: number of episodes to test Q-table for.\n",
    "    4. td_type: TD control type. By default, 'sarsa'\n",
    "    5. epsilon: rate of exploration (used in greedy policy) hyper-parameter.\n",
    "    6. gamma: discounted return regularizer hyper-parameter.\n",
    "    7. alpha: control predictive regularizer hyper-parameter.\n",
    "    @Returns:\n",
    "    1. average_reward at the end of running num_episodes.\n",
    "    2. average_steps for completion.\n",
    "    3. matplotlib.pyplot chart for reward (pprint only)\n",
    "    \"\"\"\n",
    "#     agent.Q = Q_optimal\n",
    "    values = (gamma, alpha, epsilon)\n",
    "    steps_arr = [] #initialize steps counter\n",
    "    reward_arr = [] #initializer reward counter\n",
    "    for i in range(1, num_episodes + 1):\n",
    "        # monitor progress\n",
    "        if i % 100 == 0:\n",
    "            print(\"\\rEpisode {}/{}\".format(i, num_episodes), end=\"\")\n",
    "            sys.stdout.flush()\n",
    "        \n",
    "        _, steps, reward = agent.generate_episode(values, TD_type = td_type)\n",
    "        #performance monitor\n",
    "        steps_arr.append(steps)#append #steps for current episode (should decrease as num_episode -> ∞)\n",
    "        reward_arr.append(reward)#should approach optimal reward as num_episode -> ∞\n",
    "    \n",
    "    #convert performance metrics to nd.array\n",
    "    steps_arr = np.array(steps_arr)\n",
    "    reward_arr = np.array(reward_arr)\n",
    "    plt.plot(steps_arr, label=\"steps\")#plot steps\n",
    "    plt.plot(reward_arr, label=\"reward\")#plot reward\n",
    "    plt.xlabel(\"Number of episodes\")\n",
    "    plt.ylabel(\"Continuous value\")\n",
    "    plt.ylim(-30, 20)#set y-axis boundaries\n",
    "    plt.legend(loc=\"upper right\")#display legend\n",
    "    plt.show()\n",
    "    \n",
    "    return reward_arr, steps_arr"
   ]
  },
  {
   "cell_type": "code",
   "execution_count": 11,
   "metadata": {
    "scrolled": true
   },
   "outputs": [
    {
     "name": "stdout",
     "output_type": "stream",
     "text": [
      "Episode 1000/1000"
     ]
    },
    {
     "data": {
      "image/png": "[encoded data removed]",
      "text/plain": [
       "<Figure size 432x288 with 1 Axes>"
      ]
     },
     "metadata": {
      "needs_background": "light"
     },
     "output_type": "display_data"
    }
   ],
   "source": [
    "reward_optimal, steps_optimal = run_optimal_policy(agent, Q_optimal, 1000, td_type=\"Q\")"
   ]
  },
  {
   "cell_type": "code",
   "execution_count": 12,
   "metadata": {},
   "outputs": [
    {
     "data": {
      "text/plain": [
       "(7.901, 13.099)"
      ]
     },
     "execution_count": 12,
     "metadata": {},
     "output_type": "execute_result"
    }
   ],
   "source": [
    "reward_optimal.mean(), steps_optimal.mean()"
   ]
  },
  {
   "cell_type": "code",
   "execution_count": 13,
   "metadata": {},
   "outputs": [
    {
     "data": {
      "text/plain": [
       "15"
      ]
     },
     "execution_count": 13,
     "metadata": {},
     "output_type": "execute_result"
    }
   ],
   "source": [
    "reward_optimal.max()"
   ]
  }
 ],
 "metadata": {
  "kernelspec": {
   "display_name": "Python 3",
   "language": "python",
   "name": "python3"
  },
  "language_info": {
   "codemirror_mode": {
    "name": "ipython",
    "version": 3
   },
   "file_extension": ".py",
   "mimetype": "text/x-python",
   "name": "python",
   "nbconvert_exporter": "python",
   "pygments_lexer": "ipython3",
   "version": "3.7.6"
  }
 },
 "nbformat": 4,
 "nbformat_minor": 4
}
